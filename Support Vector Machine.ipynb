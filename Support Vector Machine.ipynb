{
 "cells": [
  {
   "cell_type": "markdown",
   "metadata": {
    "collapsed": false
   },
   "source": [
    "# Support Vector Machine\n",
    "\n",
    "## Background\n",
    "\n",
    "In this notebook, we will implement a linear support vector machine (SVM) model for classifying two-dimensional data.  For background, read [this Wikipedia article](https://en.wikipedia.org/wiki/Support_vector_machine).\n",
    "\n",
    "## Notebook Setup"
   ]
  },
  {
   "cell_type": "code",
   "execution_count": 15,
   "metadata": {
    "collapsed": false
   },
   "outputs": [
    {
     "data": {
      "text/html": [
       "<link rel=\"stylesheet\" type=\"text/css\" href=\"https://www.math.ksu.edu/~albin/smc_styles/smc_course.css\">"
      ],
      "text/plain": [
       "<IPython.core.display.HTML object>"
      ]
     },
     "execution_count": 15,
     "metadata": {
     },
     "output_type": "execute_result"
    }
   ],
   "source": [
    "%matplotlib inline\n",
    "import matplotlib.pyplot as plt\n",
    "import numpy as np\n",
    "import cvxopt as cvx\n",
    "\n",
    "# make cvxopt silent\n",
    "cvx.solvers.options['show_progress'] = False\n",
    "\n",
    "# set up notebook formatting\n",
    "from IPython.core.display import display, HTML\n",
    "display( HTML('<link rel=\"stylesheet\" type=\"text/css\" href=\"https://www.math.ksu.edu/~albin/smc_styles/smc_course.css\">') )\n",
    "None"
   ]
  },
  {
   "cell_type": "markdown",
   "metadata": {
    "collapsed": false
   },
   "source": [
    "## Well-separated data\n",
    "\n",
    "When the data can be separated by a hyperplane, it is possible to formulate the [hard-margin problem](https://en.wikipedia.org/wiki/Support_vector_machine#Hard-margin): find the separating hyperplane that is equidistant from both categories."
   ]
  },
  {
   "cell_type": "code",
   "execution_count": 16,
   "metadata": {
    "collapsed": false
   },
   "outputs": [
    {
     "data": {
      "image/png": "[encoded data removed]",
      "text/plain": [
       "<matplotlib.figure.Figure at 0x7f51f98ca550>"
      ]
     },
     "execution_count": 16,
     "metadata": {
     },
     "output_type": "execute_result"
    }
   ],
   "source": [
    "# number of data points\n",
    "n = 100\n",
    "\n",
    "# generate some random radii and angles\n",
    "r = np.random.uniform(size=(n,))\n",
    "t = np.random.uniform(size=(n,))*2*np.pi\n",
    "\n",
    "# make a matrix whose rows are the 2D data points\n",
    "x = np.zeros((n,2))\n",
    "x[:,0] = r*np.cos(t)\n",
    "x[:,1] = r*np.sin(t)\n",
    "\n",
    "# split the points into two groups by translating\n",
    "x[:n/2,0] -= 0.8\n",
    "x[:n/2,1] += 0.9\n",
    "x[n/2:,0] += 0.8\n",
    "x[n/2:,1] -= 0.9\n",
    "\n",
    "# set up the classification vector\n",
    "y = np.ones(n)\n",
    "y[n/2:] = -1\n",
    "\n",
    "# now let's permute the entries so the data are mixed up\n",
    "#ind = np.random.permutation(n)\n",
    "#x = x[ind,:]\n",
    "#y = y[ind]\n",
    "\n",
    "# plot the data points\n",
    "plt.figure(figsize=(6,6))\n",
    "plt.plot( x[y<0,0], x[y<0,1], 'ro' )\n",
    "plt.plot( x[y>0,0], x[y>0,1], 'bo' )\n",
    "None"
   ]
  },
  {
   "cell_type": "markdown",
   "metadata": {
    "collapsed": false
   },
   "source": [
    "Here is a function implementing the hard-margin classifier using the QP formulation\n",
    "\n",
    "\\begin{align*}\n",
    "    \\text{minimize}\\quad& \\|w\\|_2^2\\\\\n",
    "    \\text{subject to}\\quad& y_i(x_i^Tw+b)\\ge 1,\\quad i=1,2,\\ldots,n,\n",
    "\\end{align*}\n",
    "\n",
    "where $\\{x_i\\}_{i=1}^n$ are the data points and $y_i\\in\\{-1,1\\}$ are the associated classifications."
   ]
  },
  {
   "cell_type": "code",
   "execution_count": 17,
   "metadata": {
    "collapsed": false
   },
   "outputs": [
   ],
   "source": [
    "def classify_hard(x,y):\n",
    "    ''' Finds a hard-margin linear classifier.\n",
    "    \n",
    "    Given an n-by-2 array of 2D points and a +/-1 classification vector y,\n",
    "    this function finds a line of the form\n",
    "    \n",
    "      w^T x + b = 0\n",
    "      \n",
    "    that separates the two classes of points.  \n",
    "    \n",
    "    The function returns the tuple (w,b,z), where w and b define the\n",
    "    separating hyperplane and z is the vector of dual variables for\n",
    "    the inequality constraints.\n",
    "    '''\n",
    "    \n",
    "    # count the number of points\n",
    "    n = x.shape[0]\n",
    "\n",
    "    # P matrix\n",
    "    P = 2*cvx.spmatrix(1.0,[0,1],[0,1],(3,3))\n",
    "\n",
    "    # q matrix\n",
    "    q = cvx.matrix(0.,(3,1))\n",
    "\n",
    "    #################################################\n",
    "    # G matrix and h vector\n",
    "    #\n",
    "    # each sample point gives a constraint\n",
    "    #\n",
    "    G = np.zeros((n,3))\n",
    "    h = -np.ones(n)\n",
    "\n",
    "    # fill in rows assuming positive y (we'll fix signs later)\n",
    "    G[:,:2] = x\n",
    "    G[:,2]  = 1\n",
    "\n",
    "    # now fix signs for positive y\n",
    "    G[np.where(y>0),:] = -G[np.where(y>0),:]\n",
    "\n",
    "    # convert to cvxopt matrices\n",
    "    G = cvx.matrix(G)\n",
    "    h = cvx.matrix(h)\n",
    "\n",
    "    # solve the QP\n",
    "    sln = cvx.solvers.qp(P,q,G,h)\n",
    "    \n",
    "    # check the status\n",
    "    if sln['status'] != 'optimal':\n",
    "        raise RuntimeError('QP solver failed to converge.')\n",
    "        \n",
    "    # convert to numpy \n",
    "    w = np.array(sln['x'][:2]).flatten()\n",
    "    b = sln['x'][2]\n",
    "    z = np.array(sln['z']).flatten()\n",
    "    return w,b,z"
   ]
  },
  {
   "cell_type": "code",
   "execution_count": 18,
   "metadata": {
    "collapsed": false
   },
   "outputs": [
    {
     "name": "stdout",
     "output_type": "stream",
     "text": [
      "w =  [-1.65304668  2.82871884]\n",
      "b =  -0.00147281174338\n"
     ]
    }
   ],
   "source": [
    "w,b,z = classify_hard(x,y)\n",
    "print 'w = ', w\n",
    "print 'b = ', b"
   ]
  },
  {
   "cell_type": "markdown",
   "metadata": {
    "collapsed": false
   },
   "source": [
    "The following code plots the data along with the separating hyperplane $w^Tx+b=0$ (solid line) along with the lines $w^Tx+b=\\pm 1$ (dashed lines)."
   ]
  },
  {
   "cell_type": "code",
   "execution_count": 19,
   "metadata": {
    "collapsed": false
   },
   "outputs": [
    {
     "data": {
      "image/png": "[encoded data removed]",
      "text/plain": [
       "<matplotlib.figure.Figure at 0x7f52000859d0>"
      ]
     },
     "execution_count": 19,
     "metadata": {
     },
     "output_type": "execute_result"
    }
   ],
   "source": [
    "# find a point on the separating line\n",
    "w2 = w.dot(w)\n",
    "x0 = -b*w/(w2)\n",
    "\n",
    "# the line points in the orthogonal direction to w\n",
    "v = np.array( [w[1],-w[0]])\n",
    "v /= np.linalg.norm(v)\n",
    "\n",
    "# endpoints of the dividing line\n",
    "l = np.array( [ [x0[0]+t*v[0],x0[1]+t*v[1]] for t in (-2,2)] )\n",
    "\n",
    "plt.figure(figsize=(6,6))\n",
    "plt.plot( x[y<0,0], x[y<0,1], 'ro' )\n",
    "plt.plot( x[y>0,0], x[y>0,1], 'bo' )\n",
    "plt.plot( l[:,0], l[:,1], 'k-')\n",
    "plt.plot( l[:,0]+w[0]/w2, l[:,1]+w[1]/w2, 'k--')\n",
    "plt.plot( l[:,0]-w[0]/w2, l[:,1]-w[1]/w2, 'k--')\n",
    "None"
   ]
  },
  {
   "cell_type": "markdown",
   "metadata": {
    "collapsed": false
   },
   "source": [
    "The following cell shows the 10 largest dual variables $z$.  Notice that only very few of these values are significantly larger than 0.\n",
    "\n",
    "</div>"
   ]
  },
  {
   "cell_type": "code",
   "execution_count": 21,
   "metadata": {
    "collapsed": false
   },
   "outputs": [
    {
     "data": {
      "text/plain": [
       "array([  3.54819411e-10,   4.88748496e-10,   1.08005183e-09,\n",
       "         1.67280743e-09,   2.64294913e-09,   1.03062289e-08,\n",
       "         2.75790654e-08,   3.50321766e-08,   1.07342135e+01,\n",
       "         1.07342136e+01])"
      ]
     },
     "execution_count": 21,
     "metadata": {
     },
     "output_type": "execute_result"
    }
   ],
   "source": [
    "np.sort(z)[-10:]"
   ]
  },
  {
   "cell_type": "markdown",
   "metadata": {
    "collapsed": false
   },
   "source": [
    "### The problem when data aren't well separated\n",
    "\n",
    "If the data can't be separated by a hyperplane, something goes wrong."
   ]
  },
  {
   "cell_type": "code",
   "execution_count": 22,
   "metadata": {
    "collapsed": false
   },
   "outputs": [
    {
     "data": {
      "image/png": "[encoded data removed]",
      "text/plain": [
       "<matplotlib.figure.Figure at 0x7f5200038fd0>"
      ]
     },
     "execution_count": 22,
     "metadata": {
     },
     "output_type": "execute_result"
    }
   ],
   "source": [
    "# number of data points\n",
    "n = 100\n",
    "\n",
    "# generate some random radii and angles\n",
    "r = np.random.uniform(size=(n,))\n",
    "t = np.random.uniform(size=(n,))*2*np.pi\n",
    "\n",
    "# make a matrix whose rows are the 2D data points\n",
    "x = np.zeros((n,2))\n",
    "x[:,0] = r*np.cos(t)\n",
    "x[:,1] = r*np.sin(t)\n",
    "\n",
    "# split the points into two groups by translating\n",
    "x[:n/2,0] -= 0.4\n",
    "x[:n/2,1] += 0.5\n",
    "x[n/2:,0] += 0.4\n",
    "x[n/2:,1] -= 0.5\n",
    "\n",
    "# set up the classification vector\n",
    "y = np.ones(n)\n",
    "y[n/2:] = -1\n",
    "\n",
    "# now let's permute the entries so the data are mixed up\n",
    "ind = np.random.permutation(n)\n",
    "x = x[ind,:]\n",
    "y = y[ind]\n",
    "\n",
    "plt.figure(figsize=(6,6))\n",
    "plt.plot( x[y<0,0], x[y<0,1], 'ro' )\n",
    "plt.plot( x[y>0,0], x[y>0,1], 'bo' )\n",
    "None"
   ]
  },
  {
   "cell_type": "markdown",
   "metadata": {
    "collapsed": false
   },
   "source": [
    "The data above show a clear trend: blue dots are, in general, above and to the left of red dots.  However, there is no clear separating plane.  Run the cell below to see what happens."
   ]
  },
  {
   "cell_type": "code",
   "execution_count": 23,
   "metadata": {
    "collapsed": false
   },
   "outputs": [
    {
     "name": "stdout",
     "output_type": "stream",
     "text": [
      "Terminated (singular KKT matrix).\n"
     ]
    },
    {
     "ename": "RuntimeError",
     "evalue": "QP solver failed to converge.",
     "output_type": "error",
     "traceback": [
      "\u001b[1;31m---------------------------------------------------------------------------\u001b[0m",
      "\u001b[1;31mRuntimeError\u001b[0m                              Traceback (most recent call last)",
      "\u001b[1;32m<ipython-input-23-a359113bad6c>\u001b[0m in \u001b[0;36m<module>\u001b[1;34m()\u001b[0m\n\u001b[1;32m----> 1\u001b[1;33m \u001b[0mw\u001b[0m\u001b[1;33m,\u001b[0m\u001b[0mb\u001b[0m \u001b[1;33m=\u001b[0m \u001b[0mclassify_hard\u001b[0m\u001b[1;33m(\u001b[0m\u001b[0mx\u001b[0m\u001b[1;33m,\u001b[0m\u001b[0my\u001b[0m\u001b[1;33m)\u001b[0m\u001b[1;33m\u001b[0m\u001b[0m\n\u001b[0m\u001b[0;32m      2\u001b[0m \u001b[1;32mprint\u001b[0m \u001b[1;34m'w = '\u001b[0m\u001b[1;33m,\u001b[0m \u001b[0mw\u001b[0m\u001b[1;33m\u001b[0m\u001b[0m\n\u001b[0;32m      3\u001b[0m \u001b[1;32mprint\u001b[0m \u001b[1;34m'b = '\u001b[0m\u001b[1;33m,\u001b[0m \u001b[0mb\u001b[0m\u001b[1;33m\u001b[0m\u001b[0m\n",
      "\u001b[1;32m<ipython-input-17-4c7d1d21303e>\u001b[0m in \u001b[0;36mclassify_hard\u001b[1;34m(x, y)\u001b[0m\n\u001b[0;32m     47\u001b[0m     \u001b[1;31m# check the status\u001b[0m\u001b[1;33m\u001b[0m\u001b[1;33m\u001b[0m\u001b[0m\n\u001b[0;32m     48\u001b[0m     \u001b[1;32mif\u001b[0m \u001b[0msln\u001b[0m\u001b[1;33m[\u001b[0m\u001b[1;34m'status'\u001b[0m\u001b[1;33m]\u001b[0m \u001b[1;33m!=\u001b[0m \u001b[1;34m'optimal'\u001b[0m\u001b[1;33m:\u001b[0m\u001b[1;33m\u001b[0m\u001b[0m\n\u001b[1;32m---> 49\u001b[1;33m         \u001b[1;32mraise\u001b[0m \u001b[0mRuntimeError\u001b[0m\u001b[1;33m(\u001b[0m\u001b[1;34m'QP solver failed to converge.'\u001b[0m\u001b[1;33m)\u001b[0m\u001b[1;33m\u001b[0m\u001b[0m\n\u001b[0m\u001b[0;32m     50\u001b[0m \u001b[1;33m\u001b[0m\u001b[0m\n\u001b[0;32m     51\u001b[0m     \u001b[1;31m# convert to numpy\u001b[0m\u001b[1;33m\u001b[0m\u001b[1;33m\u001b[0m\u001b[0m\n",
      "\u001b[1;31mRuntimeError\u001b[0m: QP solver failed to converge."
     ]
    }
   ],
   "source": [
    "w,b = classify_hard(x,y)\n",
    "print 'w = ', w\n",
    "print 'b = ', b"
   ]
  },
  {
   "cell_type": "markdown",
   "metadata": {
    "collapsed": false
   },
   "source": [
    "<div class=\"note assignment\">\n",
    "<h5>Question</h5> <p>What went wrong?  (Hint read the very last line of the error message.  What do you think it means?)</p>\n",
    "<h5>Answer</h5> <p>[In this problem, the data sets are not linearly separabe, it is why Hard-Margin method is not able to solve it]</p>\n",
    "</div>"
   ]
  },
  {
   "cell_type": "markdown",
   "metadata": {
    "collapsed": false
   },
   "source": [
    "## What to do when the data aren't separated\n",
    "\n",
    "If the data aren't separated, then we should solve the [soft-margin problem](https://en.wikipedia.org/wiki/Support_vector_machine#Soft-margin). The primal QP formulation of the soft-margin problem can be found [here](https://en.wikipedia.org/wiki/Support_vector_machine#Computing_the_SVM_classifier).\n",
    "\n",
    "<div class=\"note assignment\">\n",
    "<h5>Assignment</h5>\n",
    "<p>Fill in the definition of the 'classify_soft' function below.  The behavior of the function is defined in the docstring.  After you've written the function, you can test it using the code below.  If you have written correct code, the data should be separated by reasonable looking lines that do not leave two many red or blue points on the wrong side.</p>\n",
    "</div>\n",
    "\n",
    "<div class=\"note hint\">\n",
    "<h5>Hints</h5>\n",
    "<ul>\n",
    "    <li>If you order your variables $(w_1,w_2,b,\\zeta_1,\\ldots,\\zeta_n)$, you won't need to change the definition of 'P' much from the 'classify_hard' function.</li>\n",
    "    <li>Part of 'G' can be constructed as in 'classify_hard'.</li>\n",
    "    <li>Don't forget to include the $\\zeta\\succeq 0$ constraints.</li>\n",
    "    <li>While developing your code, try using a smaller data set (6 points, say) so that you can inspect the entries in your arrays to ensure they make sense.</li>\n",
    "</ul>\n",
    "</div>"
   ]
  },
  {
   "cell_type": "code",
   "execution_count": 24,
   "metadata": {
    "collapsed": true
   },
   "outputs": [
   ],
   "source": [
    "def classify_soft(x,y,lam):\n",
    "    ''' Finds a soft-margin linear classifier.\n",
    "    \n",
    "    Given an n-by-2 array of 2D points, a +/-1 classification vector y,\n",
    "    and a penalty parameter lam, this function finds a line of the form\n",
    "    \n",
    "      w^T x + b = 0\n",
    "      \n",
    "    that separates the two classes of points as well as possible in the\n",
    "    soft-margin linear SVM sense.\n",
    "    \n",
    "    The function returns the tuple (w,b), where w is a numpy 2-vector and\n",
    "    b is a scalar.\n",
    "    '''\n",
    "     \n",
    "    # count the number of points\n",
    "    n = x.shape[0]\n",
    "\n",
    "    # P matrix\n",
    "    P = lam*2*cvx.spmatrix(1.0,[0,1],[0,1],(n+3,n+3))\n",
    "\n",
    "    # q matrix\n",
    "    q=np.zeros(n+3)\n",
    "    q[3:]=1\n",
    "    q = (1./n)*cvx.matrix(q)\n",
    "\n",
    "    #################################################\n",
    "    # G matrix and h vector\n",
    "    #\n",
    "    # each sample point gives a constraint\n",
    "    #\n",
    "    G = np.zeros((2*n,n+3))\n",
    "    \n",
    "    h = np.zeros(2*n)\n",
    "\n",
    "    # fill in rows assuming positive y (we'll fix signs later)\n",
    "    G[:n,:2] = x\n",
    "    G[:n,2]  = 1\n",
    "\n",
    "    # now fix signs for positive y\n",
    "    G[np.where(y>0),:] = -G[np.where(y>0),:]\n",
    "    \n",
    "    # add kesi constraints\n",
    "    h[:n] = -np.ones(n)\n",
    "    G[:n,3:]  = -np.eye(n)\n",
    "    G[n:,3:] = -np.eye(n)\n",
    "    \n",
    "\n",
    "    # convert to cvxopt matrices\n",
    "    G = cvx.matrix(G)\n",
    "    h = cvx.matrix(h)\n",
    "\n",
    "    # solve the QP\n",
    "    sln = cvx.solvers.qp(P,q,G,h)\n",
    "    \n",
    "    # check the status\n",
    "    if sln['status'] != 'optimal':\n",
    "        raise RuntimeError('QP solver failed to converge.')\n",
    "        \n",
    "    # convert to numpy \n",
    "    w = np.array(sln['x'][:2]).flatten()\n",
    "    b = sln['x'][2]\n",
    "    kesi=np.array(sln['x'][3:]).flatten()\n",
    "    z = np.array(sln['z']).flatten()\n",
    "    return w,b,kesi,z\n",
    "    \n",
    "    \n",
    "    \n",
    "    raise NotImplementedError()"
   ]
  },
  {
   "cell_type": "markdown",
   "metadata": {
    "collapsed": false
   },
   "source": [
    "Here are some trials with different values of $\\lambda$."
   ]
  },
  {
   "cell_type": "code",
   "execution_count": 25,
   "metadata": {
    "collapsed": false
   },
   "outputs": [
    {
     "name": "stdout",
     "output_type": "stream",
     "text": [
      "lam =  1000.0\n",
      "w  =  [-0.00017274  0.00025225]\n",
      "b  =  -9.17921678095e-06\n",
      "\n",
      "lam =  1\n",
      "w  =  [-0.17273534  0.25224984]\n",
      "b  =  -0.0137848030865\n",
      "\n",
      "lam =  0.001\n",
      "w  =  [-2.46740764  2.44973191]\n",
      "b  =  -0.169359234067\n",
      "\n"
     ]
    }
   ],
   "source": [
    "# trials with different values of lambda\n",
    "lams = [ 1e3, 1, 1e-3]\n",
    "res  = []\n",
    "\n",
    "for lam in lams:\n",
    "    w,b,kesi,z = classify_soft(x,y,lam)\n",
    "    res.append((w,b))\n",
    "    print 'lam = ', lam\n",
    "    print 'w  = ', w\n",
    "    print 'b  = ', b\n",
    "    print"
   ]
  },
  {
   "cell_type": "markdown",
   "metadata": {
    "collapsed": false
   },
   "source": [
    "And here are the associated plots."
   ]
  },
  {
   "cell_type": "code",
   "execution_count": 26,
   "metadata": {
    "collapsed": false
   },
   "outputs": [
    {
     "data": {
      "image/png": "[encoded data removed]",
      "text/plain": [
       "<matplotlib.figure.Figure at 0x7f520185cb90>"
      ]
     },
     "execution_count": 26,
     "metadata": {
     },
     "output_type": "execute_result"
    }
   ],
   "source": [
    "plt.figure(figsize=(18,6))\n",
    "\n",
    "for e,(w,b) in enumerate(res):\n",
    "    \n",
    "    # find a point on the separating line\n",
    "    w2 = w.dot(w)\n",
    "    x0 = -b*w/(w2)\n",
    "\n",
    "    # the line points in the orthogonal direction to w\n",
    "    v = np.array( [w[1],-w[0]])\n",
    "    v /= np.linalg.norm(v)\n",
    "    \n",
    "    # endpoints of the dividing line\n",
    "    l = np.array( [ [x0[0]+t*v[0],x0[1]+t*v[1]] for t in (-2,2)] )\n",
    "\n",
    "    plt.subplot(1,3,e+1)\n",
    "    plt.plot( x[y<0,0], x[y<0,1], 'ro' )\n",
    "    plt.plot( x[y>0,0], x[y>0,1], 'bo' )\n",
    "    plt.plot( l[:,0], l[:,1], 'k-')\n",
    "    plt.xlim([-2,2])\n",
    "    plt.ylim([-2,2])\n",
    "    plt.title('lambda = {}'.format(lams[e]))"
   ]
  },
  {
   "cell_type": "code",
   "execution_count": 0,
   "metadata": {
    "collapsed": true
   },
   "outputs": [
   ],
   "source": [
   ]
  },
  {
   "cell_type": "code",
   "execution_count": 0,
   "metadata": {
    "collapsed": true
   },
   "outputs": [
   ],
   "source": [
   ]
  }
 ],
 "metadata": {
  "kernelspec": {
   "display_name": "Python 2 (system-wide)",
   "language": "python",
   "metadata": {
    "cocalc": {
     "description": "Python 2 programming language",
     "priority": 5,
     "url": "https://www.python.org/"
    }
   },
   "name": "python2"
  },
  "language_info": {
   "codemirror_mode": {
    "name": "ipython",
    "version": 2
   },
   "file_extension": ".py",
   "mimetype": "text/x-python",
   "name": "python",
   "nbconvert_exporter": "python",
   "pygments_lexer": "ipython2",
   "version": "2.7.17"
  }
 },
 "nbformat": 4,
 "nbformat_minor": 0
}
